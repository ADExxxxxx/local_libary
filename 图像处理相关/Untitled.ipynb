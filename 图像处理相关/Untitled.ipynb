{
 "cells": [
  {
   "cell_type": "code",
   "execution_count": 4,
   "metadata": {},
   "outputs": [],
   "source": [
    "import cv2 as cv\n",
    "import numpy as np\n",
    "import random"
   ]
  },
  {
   "cell_type": "code",
   "execution_count": 5,
   "metadata": {},
   "outputs": [],
   "source": [
    "def sp_noise(image,prob):\n",
    "    '''\n",
    "    添加椒盐噪声\n",
    "    prob:噪声比例\n",
    "    '''\n",
    "    output = np.zeros(image.shape,np.uint8)\n",
    "    thres = 1 - prob\n",
    "    for i in range(image.shape[0]):\n",
    "        for j in range(image.shape[1]):\n",
    "            rdn = random.random()\n",
    "            if rdn < prob:\n",
    "                output[i][j] = 0\n",
    "            elif rdn > thres:\n",
    "                output[i][j] = 255\n",
    "            else:\n",
    "                output[i][j] = image[i][j]\n",
    "    return output\n",
    "\n",
    "def gasuss_noise(image, mean=0, var=0.001):\n",
    "    '''\n",
    "        添加高斯噪声\n",
    "        mean : 均值\n",
    "        var : 方差\n",
    "    '''\n",
    "    image = np.array(image/255, dtype=float)\n",
    "    noise = np.random.normal(mean, var ** 0.5, image.shape)\n",
    "    out = image + noise\n",
    "    if out.min() < 0:\n",
    "        low_clip = -1.\n",
    "    else:\n",
    "        low_clip = 0.\n",
    "    out = np.clip(out, low_clip, 1.0)\n",
    "    out = np.uint8(out*255)\n",
    "    #cv.imshow(\"gasuss\", out)\n",
    "    return out\n"
   ]
  },
  {
   "cell_type": "code",
   "execution_count": 6,
   "metadata": {},
   "outputs": [],
   "source": [
    "img = cv.imread(\"./1/lena.jpg\")\n",
    "img_salt = sp_noise(img, 0.05)"
   ]
  },
  {
   "cell_type": "code",
   "execution_count": 9,
   "metadata": {},
   "outputs": [],
   "source": [
    "def max_min_value_filter(image, ksize=3, mode=1):\n",
    "    \"\"\"\n",
    "    :param image: 原始图像\n",
    "    :param ksize: 卷积核大小\n",
    "    :param mode:  最大值：1 或最小值：2\n",
    "    :return:\n",
    "    \"\"\"\n",
    "    img = image.copy()\n",
    "    rows, cols, channels = img.shape\n",
    "    padding = (ksize-1) // 2\n",
    "    new_img = cv.copyMakeBorder(img, padding, padding, padding, padding, cv.BORDER_CONSTANT, value=255)\n",
    "    for k in range(channels):\n",
    "        for i in range(rows):\n",
    "            for j in range(cols):\n",
    "                roi_img = new_img[i:i+ksize, j:j+ksize, k].copy()\n",
    "                min_val, max_val, min_index, max_index = cv.minMaxLoc(roi_img)\n",
    "                if mode == 1:\n",
    "                    img[i, j] = max_val\n",
    "                elif mode == 2:\n",
    "                    img[i, j] = min_val\n",
    "                else:\n",
    "                    raise Exception(\"please Select a Mode: max(1) or min(2)\")\n",
    "    return img"
   ]
  },
  {
   "cell_type": "code",
   "execution_count": 10,
   "metadata": {},
   "outputs": [],
   "source": [
    "img_min = max_min_value_filter(img_salt, ksize=5, mode=1)\n",
    "img_max = max_min_value_filter(img_salt, ksize=5, mode=2)"
   ]
  },
  {
   "cell_type": "code",
   "execution_count": null,
   "metadata": {},
   "outputs": [],
   "source": [
    "cv.imshow(\"min_blur\", img_min)\n",
    "cv.imshow(\"max_blur\", img_max)\n",
    "cv.waitKey(0)"
   ]
  },
  {
   "cell_type": "code",
   "execution_count": null,
   "metadata": {},
   "outputs": [],
   "source": [
    "print(img)"
   ]
  },
  {
   "cell_type": "code",
   "execution_count": null,
   "metadata": {},
   "outputs": [],
   "source": []
  }
 ],
 "metadata": {
  "kernelspec": {
   "display_name": "Python 3",
   "language": "python",
   "name": "python3"
  },
  "language_info": {
   "codemirror_mode": {
    "name": "ipython",
    "version": 3
   },
   "file_extension": ".py",
   "mimetype": "text/x-python",
   "name": "python",
   "nbconvert_exporter": "python",
   "pygments_lexer": "ipython3",
   "version": "3.7.3"
  }
 },
 "nbformat": 4,
 "nbformat_minor": 2
}
